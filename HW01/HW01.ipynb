{
  "nbformat": 4,
  "nbformat_minor": 0,
  "metadata": {
    "colab": {
      "name": "Copy of HW01.ipynb",
      "provenance": [],
      "collapsed_sections": [],
      "toc_visible": true,
      "authorship_tag": "ABX9TyOFC4sivpyBLWGO4uC8UpQy",
      "include_colab_link": true
    },
    "kernelspec": {
      "name": "python3",
      "display_name": "Python 3"
    },
    "language_info": {
      "name": "python"
    },
    "accelerator": "GPU"
  },
  "cells": [
    {
      "cell_type": "markdown",
      "metadata": {
        "id": "view-in-github",
        "colab_type": "text"
      },
      "source": [
        "<a href=\"https://colab.research.google.com/github/Jinpeng-Yu/NTU-ML2021-Spring/blob/master/HW01/HW01.ipynb\" target=\"_parent\"><img src=\"https://colab.research.google.com/assets/colab-badge.svg\" alt=\"Open In Colab\"/></a>"
      ]
    },
    {
      "cell_type": "code",
      "metadata": {
        "id": "xj7I8LtjA6fu",
        "colab": {
          "base_uri": "https://localhost:8080/"
        },
        "outputId": "661b6ec4-5bd5-4974-93aa-6558e474704a"
      },
      "source": [
        "import torch\n",
        "torch.cuda.is_available()"
      ],
      "execution_count": null,
      "outputs": [
        {
          "output_type": "execute_result",
          "data": {
            "text/plain": [
              "True"
            ]
          },
          "metadata": {
            "tags": []
          },
          "execution_count": 1
        }
      ]
    },
    {
      "cell_type": "markdown",
      "metadata": {
        "id": "mz0_QVkxCrX3"
      },
      "source": [
        "# **Homework 1: COVID-19 Cases Prediction (Regression)**"
      ]
    },
    {
      "cell_type": "markdown",
      "metadata": {
        "id": "ZeZnPAiwDRWG"
      },
      "source": [
        "Objectives:\n",
        "* Solve a regression problem with deep neural networks (DNN).\n",
        "* Understand basic DNN training tips.\n",
        "* Get familiar with PyTorch."
      ]
    },
    {
      "cell_type": "markdown",
      "metadata": {
        "id": "Jx3x1nDkG-Uy"
      },
      "source": [
        "# **Download Data**\n",
        "\n",
        "\n",
        "If the Google drive links are dead, you can download data from [kaggle](https://www.kaggle.com/c/ml2021spring-hw1/data), and upload data manually to the workspace."
      ]
    },
    {
      "cell_type": "code",
      "metadata": {
        "id": "e4R5CYy39XP4",
        "colab": {
          "base_uri": "https://localhost:8080/"
        },
        "outputId": "c3587d98-9bc1-4425-8ec4-0a1f819f8468"
      },
      "source": [
        "tr_path = 'covid.train.csv'\n",
        "tt_path = 'covid.test.csv'\n",
        "\n",
        "!gdown --id '19CCyCgJrUxtvgZF53vnctJiOJ23T5mqF' --output covid.train.csv\n",
        "!gdown --id '1CE240jLm2npU-tdz81-oVKEF3T2yfT1O' --output covid.test.csv"
      ],
      "execution_count": null,
      "outputs": [
        {
          "output_type": "stream",
          "text": [
            "Downloading...\n",
            "From: https://drive.google.com/uc?id=19CCyCgJrUxtvgZF53vnctJiOJ23T5mqF\n",
            "To: /content/covid.train.csv\n",
            "100% 2.00M/2.00M [00:00<00:00, 63.9MB/s]\n",
            "Downloading...\n",
            "From: https://drive.google.com/uc?id=1CE240jLm2npU-tdz81-oVKEF3T2yfT1O\n",
            "To: /content/covid.test.csv\n",
            "100% 651k/651k [00:00<00:00, 42.9MB/s]\n"
          ],
          "name": "stdout"
        }
      ]
    },
    {
      "cell_type": "markdown",
      "metadata": {
        "id": "_eWFBaXA-PpZ"
      },
      "source": [
        "# **Import Some Packages**"
      ]
    },
    {
      "cell_type": "code",
      "metadata": {
        "id": "pglC3Hyh-dj6"
      },
      "source": [
        "# PyTorch\n",
        "import torch\n",
        "import torch.nn as nn\n",
        "from torch.utils.data import Dataset, DataLoader\n",
        "\n",
        "# For data preprocess\n",
        "import numpy as np\n",
        "import csv\n",
        "import os\n",
        "\n",
        "# For plotting\n",
        "import matplotlib.pyplot as plt\n",
        "from matplotlib.pyplot import figure\n",
        "\n",
        "myseed = 42069 #set a random seed for reproducibility\n",
        "torch.backends.cudnn.deterministic = True\n",
        "torch.backends.cudnn.benchmark = False\n",
        "np.random.seed(myseed)\n",
        "torch.manual_seed(myseed)\n",
        "if torch.cuda.is_available():\n",
        "  torch.cuda.manual_seed_all(myseed)"
      ],
      "execution_count": null,
      "outputs": []
    },
    {
      "cell_type": "markdown",
      "metadata": {
        "id": "zpMMy-XNUZsN"
      },
      "source": [
        "# **Some Utilities**\n",
        "\n",
        "do not need to modify this part"
      ]
    },
    {
      "cell_type": "code",
      "metadata": {
        "id": "4HZ0nPfFUj_i"
      },
      "source": [
        "def get_device():\n",
        "  '''Get device (if GPU is available, use GPU)'''\n",
        "  return 'cuda' if torch.cuda.is_available() else 'cpu'\n",
        "\n",
        "def plot_learning_curve(loss_record, title=''):\n",
        "  '''Plot learning curve of your DNN (train & dev loss)'''\n",
        "  total_steps = len(loss_record['train'])\n",
        "  x_1 = range(total_steps)\n",
        "  x_2 = x_1[::len(loss_record['train']) // len(loss_record['dev'])]\n",
        "  figure(figsize=(6, 4))\n",
        "  plt.plot(x_1, loss_record['train'], c='tab:red', label='train')\n",
        "  plt.plot(x_2, loss_record['dev'], c = 'tab:cyan', label='dev')\n",
        "  plt.ylim(0.0, 5.)\n",
        "  plt.xlabel('Training steps')\n",
        "  plt.ylabel('MSE loss')\n",
        "  plt.title('Learning curve of {}'.format(title))\n",
        "  plt.legend()\n",
        "  plt.show()\n",
        "\n",
        "def plot_pred(dv_set, model, device, lim=35, preds=None, targets=None):\n",
        "  '''Plot prediction of your DNN '''\n",
        "  if preds is None or target is None:\n",
        "    model.eval()\n",
        "    preds, targets = [],[]\n",
        "    for x,y in dv_set:\n",
        "      x,y = x.to(device), y.to(device)\n",
        "      with torch.no_grad():\n",
        "        pred = model(x)\n",
        "        preds.append(pred.detach().cpu())\n",
        "        targets.append(y.detach().cpu())\n",
        "    preds = torch.cat(preds, dim=0).numpy()\n",
        "    targets = torch.cat(targets, dim=0).numpy()\n",
        "\n",
        "  figure(figsize=(5,5))\n",
        "  plt(scatter(targets, preds, c='r', alpha=0.5))\n",
        "  plt.plot([-0.2, lim], [-0.2, lim], c='b')\n",
        "  plt.xlim(-0.2, lim)\n",
        "  plt.ylim(-0.2, lim)\n",
        "  plt.xlabel('ground truth value')\n",
        "  plt.ylabel('predicted value')\n",
        "  plt.title('Ground Turth v.s. Prediction')\n",
        "  plt.show()"
      ],
      "execution_count": null,
      "outputs": []
    },
    {
      "cell_type": "markdown",
      "metadata": {
        "id": "hxOkgPCDYfG9"
      },
      "source": [
        "# **Preprocess**\n",
        "*`train`:training   \n",
        "*`dev`:validation   \n",
        "*`test`:testing   "
      ]
    },
    {
      "cell_type": "markdown",
      "metadata": {
        "id": "uQOECS_XY4l4"
      },
      "source": [
        "# **Dataset**\n",
        "\n",
        "The `COVID19Dataset` below does:\n",
        "* read `.csv` files\n",
        "* extract features\n",
        "* split `covid.train.csv` into train/dev sets\n",
        "* normalize features"
      ]
    },
    {
      "cell_type": "code",
      "metadata": {
        "id": "FD0sYSfPcNbC",
        "colab": {
          "base_uri": "https://localhost:8080/"
        },
        "outputId": "8ecac1c6-58f7-4397-f92b-1f08050683da"
      },
      "source": [
        "# with open('covid.train.csv', 'r') as fp:\n",
        "#   data = list(csv.reader(fp))\n",
        "#   #print(np.array(data[1:])[:,1:])\n",
        "#   data = np.array(data[1:])[:,1:].astype(float)\n",
        "\n",
        "list(range(3))"
      ],
      "execution_count": null,
      "outputs": [
        {
          "output_type": "execute_result",
          "data": {
            "text/plain": [
              "[0, 1, 2]"
            ]
          },
          "metadata": {
            "tags": []
          },
          "execution_count": 10
        }
      ]
    },
    {
      "cell_type": "code",
      "metadata": {
        "id": "10ekoy9rZFHT"
      },
      "source": [
        "class COVID19Dataset(Dataset):\n",
        "    ''' Dataset for loading and preprocessing the COVID19 dataset '''\n",
        "    def __init__(self,\n",
        "                 path,\n",
        "                 mode='train',\n",
        "                 target_only=False):\n",
        "      self.mode = mode\n",
        "\n",
        "      #Read data into numpy arrays\n",
        "      with open(path, 'r') as fp:\n",
        "        data = list(csv.reader(fp))\n",
        "        data = np.array(data[1:])[:,1:].astype(float)\n",
        "      \n",
        "      if not target_only:\n",
        "        feats = list(range(93))\n",
        "      else:\n",
        "        # TODO: Using 40 states & 2 tested_positive features (indices = 57 & 75)\n",
        "        \n",
        "        pass\n",
        "      \n",
        "      if mode == 'test':\n",
        "        # Testing data\n",
        "        # data: 893 x 93 (40 states + day 1 (18) + day 2 (18) + day 3 (17))\n",
        "        data = data[:, feats]\n",
        "        self.data = torch.FloatTensor(data)\n",
        "      else:\n",
        "        # Training data (train/dev sets)\n",
        "        # data: 2700 x 94 (40 states + day 1 (18) + day 2 (18) + day 3 (18))\n",
        "        target = data[:,-1]\n",
        "        data = data[:, feats]\n",
        "\n",
        "        # Splitting training data into train & dev sets\n",
        "        if mode == 'train':\n",
        "          indices = [i for i in range(len(data)) if i % 10 != 0]\n",
        "        elif mode == 'dev':\n",
        "          indices = [i for i in range(len(data)) if i % 10 == 0]\n",
        "\n",
        "        # Convert data into Pytorch tensors\n",
        "        self.data = torch.FloatTensor(data[indices])\n",
        "        self.target = torch.FloatTensor(target[indices])\n",
        "\n",
        "    # Normalize features (you may remove this part to see what will happen)\n",
        "    self.data[:, 40:] = \\\n",
        "      (self.data)"
      ],
      "execution_count": null,
      "outputs": []
    }
  ]
}